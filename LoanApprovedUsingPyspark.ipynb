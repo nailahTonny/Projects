{
  "nbformat": 4,
  "nbformat_minor": 0,
  "metadata": {
    "colab": {
      "provenance": []
    },
    "kernelspec": {
      "name": "python3",
      "display_name": "Python 3"
    },
    "language_info": {
      "name": "python"
    }
  },
  "cells": [
    {
      "cell_type": "code",
      "execution_count": null,
      "metadata": {
        "id": "RXQxyppfisB2"
      },
      "outputs": [],
      "source": [
        "#Installation\n",
        "!apt-get install openjdk-8-jdk-headless -qq > /dev/null\n",
        "!wget -q http://archive.apache.org/dist/spark/spark-3.1.1/spark-3.1.1-bin-hadoop3.2.tgz\n",
        "!tar xf spark-3.1.1-bin-hadoop3.2.tgz\n",
        "!pip install -q findspark\n",
        "\n",
        "import os\n",
        "os.environ[\"JAVA_HOME\"] = \"/usr/lib/jvm/java-8-openjdk-amd64\"\n",
        "os.environ[\"SPARK_HOME\"] = \"/content/spark-3.1.1-bin-hadoop3.2\"\n",
        "\n",
        "#spark\n",
        "import findspark\n",
        "findspark.init()"
      ]
    },
    {
      "cell_type": "code",
      "source": [
        "#Creating Session\n",
        "from pyspark.sql import SparkSession\n",
        "spark = SparkSession.builder.appName(\"LoanApprovedUsingPyspark\").getOrCreate()"
      ],
      "metadata": {
        "id": "6DTIBOkDj2Si"
      },
      "execution_count": null,
      "outputs": []
    },
    {
      "cell_type": "code",
      "source": [
        "from google.colab import drive\n",
        "drive.mount('/content/drive')"
      ],
      "metadata": {
        "id": "K7KZy5dEkQlR",
        "colab": {
          "base_uri": "https://localhost:8080/"
        },
        "outputId": "b675befd-1c7b-410a-97bb-11100c905dfc"
      },
      "execution_count": null,
      "outputs": [
        {
          "output_type": "stream",
          "name": "stdout",
          "text": [
            "Mounted at /content/drive\n"
          ]
        }
      ]
    },
    {
      "cell_type": "code",
      "source": [
        "data = spark.read.csv(\"/content/drive/MyDrive/Colab Notebooks/Loan Application Approval/loan.csv\", header=True, inferSchema=True)\n",
        "data.show(10)"
      ],
      "metadata": {
        "colab": {
          "base_uri": "https://localhost:8080/"
        },
        "id": "lLvttsyExkUY",
        "outputId": "d40b46d9-c4ec-482c-aedb-d17a62967fbe"
      },
      "execution_count": null,
      "outputs": [
        {
          "output_type": "stream",
          "name": "stdout",
          "text": [
            "+--------+------+-------+----------+------------+-------------+---------------+-----------------+----------+----------------+--------------+-------------+-----------+\n",
            "| Loan_ID|Gender|Married|Dependents|   Education|Self_Employed|ApplicantIncome|CoapplicantIncome|LoanAmount|Loan_Amount_Term|Credit_History|Property_Area|Loan_Status|\n",
            "+--------+------+-------+----------+------------+-------------+---------------+-----------------+----------+----------------+--------------+-------------+-----------+\n",
            "|LP001002|  Male|     No|         0|    Graduate|           No|           5849|              0.0|      null|             360|             1|        Urban|          Y|\n",
            "|LP001003|  Male|    Yes|         1|    Graduate|           No|           4583|           1508.0|       128|             360|             1|        Rural|          N|\n",
            "|LP001005|  Male|    Yes|         0|    Graduate|          Yes|           3000|              0.0|        66|             360|             1|        Urban|          Y|\n",
            "|LP001006|  Male|    Yes|         0|Not Graduate|           No|           2583|           2358.0|       120|             360|             1|        Urban|          Y|\n",
            "|LP001008|  Male|     No|         0|    Graduate|           No|           6000|              0.0|       141|             360|             1|        Urban|          Y|\n",
            "|LP001011|  Male|    Yes|         2|    Graduate|          Yes|           5417|           4196.0|       267|             360|             1|        Urban|          Y|\n",
            "|LP001013|  Male|    Yes|         0|Not Graduate|           No|           2333|           1516.0|        95|             360|             1|        Urban|          Y|\n",
            "|LP001014|  Male|    Yes|        3+|    Graduate|           No|           3036|           2504.0|       158|             360|             0|    Semiurban|          N|\n",
            "|LP001018|  Male|    Yes|         2|    Graduate|           No|           4006|           1526.0|       168|             360|             1|        Urban|          Y|\n",
            "|LP001020|  Male|    Yes|         1|    Graduate|           No|          12841|          10968.0|       349|             360|             1|    Semiurban|          N|\n",
            "+--------+------+-------+----------+------------+-------------+---------------+-----------------+----------+----------------+--------------+-------------+-----------+\n",
            "only showing top 10 rows\n",
            "\n"
          ]
        }
      ]
    },
    {
      "cell_type": "code",
      "source": [
        "# Find Count of Null, None, NaN of All DataFrame Columns\n",
        "from pyspark.sql.functions import col,isnan, when, count\n",
        "data.select([count(when(isnan(c) | col(c).isNull(), c)).alias(c) for c in data.columns]\n",
        "   ).show()"
      ],
      "metadata": {
        "colab": {
          "base_uri": "https://localhost:8080/"
        },
        "id": "IdaXKNjj1OyG",
        "outputId": "f4dbee2c-0aa4-4eac-99e5-cf27dc904bd1"
      },
      "execution_count": null,
      "outputs": [
        {
          "output_type": "stream",
          "name": "stdout",
          "text": [
            "+-------+------+-------+----------+---------+-------------+---------------+-----------------+----------+----------------+--------------+-------------+-----------+\n",
            "|Loan_ID|Gender|Married|Dependents|Education|Self_Employed|ApplicantIncome|CoapplicantIncome|LoanAmount|Loan_Amount_Term|Credit_History|Property_Area|Loan_Status|\n",
            "+-------+------+-------+----------+---------+-------------+---------------+-----------------+----------+----------------+--------------+-------------+-----------+\n",
            "|      0|    13|      3|        15|        0|           32|              0|                0|        22|              14|            50|            0|          0|\n",
            "+-------+------+-------+----------+---------+-------------+---------------+-----------------+----------+----------------+--------------+-------------+-----------+\n",
            "\n"
          ]
        }
      ]
    },
    {
      "cell_type": "code",
      "source": [
        "#adds a new column named \"LoanAmount_log\" to the PySpark DataFrame, where each value is the logarithm of the corresponding \"LoanAmount\" value.\n",
        "#converts the PySpark DataFrame to a Pandas DataFrame for plotting the histogram in a notebook environment using the hist method.\n",
        "\n",
        "\n",
        "from pyspark.sql.functions import col, log\n",
        "data = data.withColumn(\"LoanAmount_log\", log(col(\"LoanAmount\")))\n",
        "data.select(\"LoanAmount_log\").toPandas().hist(column=\"LoanAmount_log\", bins=20)"
      ],
      "metadata": {
        "colab": {
          "base_uri": "https://localhost:8080/",
          "height": 469
        },
        "id": "gLxX8t8J28ye",
        "outputId": "db8526f5-f60c-459b-9e95-1d7da03eeae5"
      },
      "execution_count": null,
      "outputs": [
        {
          "output_type": "execute_result",
          "data": {
            "text/plain": [
              "array([[<Axes: title={'center': 'LoanAmount_log'}>]], dtype=object)"
            ]
          },
          "metadata": {},
          "execution_count": 6
        },
        {
          "output_type": "display_data",
          "data": {
            "text/plain": [
              "<Figure size 640x480 with 1 Axes>"
            ],
            "image/png": "[encoded data removed]"
          },
          "metadata": {}
        }
      ]
    },
    {
      "cell_type": "code",
      "source": [
        "#\"TotalIncome\": Represents the logarithm of the sum of \"ApplicantIncome\" and \"CoapplicantIncome.\"\n",
        "#\"TotalIncome_log\": Represents the logarithm of the \"TotalIncome\" column.\n",
        "#Plots a histogram of the \"TotalIncome_log\" column with 20 bins.\n",
        "\n",
        "data = data.withColumn(\"TotalIncome\", log(col(\"ApplicantIncome\") + col(\"CoapplicantIncome\")))\n",
        "data = data.withColumn(\"TotalIncome_log\", log(col(\"TotalIncome\")))\n",
        "data.select(\"TotalIncome_log\").toPandas().hist(column=\"TotalIncome_log\", bins=20)"
      ],
      "metadata": {
        "colab": {
          "base_uri": "https://localhost:8080/",
          "height": 469
        },
        "id": "y62ineZL36N1",
        "outputId": "a47f58ad-92b1-4ba8-f6a2-ccbdc6a6ad55"
      },
      "execution_count": null,
      "outputs": [
        {
          "output_type": "execute_result",
          "data": {
            "text/plain": [
              "array([[<Axes: title={'center': 'TotalIncome_log'}>]], dtype=object)"
            ]
          },
          "metadata": {},
          "execution_count": 7
        },
        {
          "output_type": "display_data",
          "data": {
            "text/plain": [
              "<Figure size 640x480 with 1 Axes>"
            ],
            "image/png": "[encoded data removed]"
          },
          "metadata": {}
        }
      ]
    },
    {
      "cell_type": "code",
      "source": [
        "colNames = data.columns\n",
        "colNames"
      ],
      "metadata": {
        "colab": {
          "base_uri": "https://localhost:8080/"
        },
        "id": "RsReMZsiM7OC",
        "outputId": "4a968707-ad3a-4831-ea9c-48ed37312b1e"
      },
      "execution_count": null,
      "outputs": [
        {
          "output_type": "execute_result",
          "data": {
            "text/plain": [
              "['Loan_ID',\n",
              " 'Gender',\n",
              " 'Married',\n",
              " 'Dependents',\n",
              " 'Education',\n",
              " 'Self_Employed',\n",
              " 'ApplicantIncome',\n",
              " 'CoapplicantIncome',\n",
              " 'LoanAmount',\n",
              " 'Loan_Amount_Term',\n",
              " 'Credit_History',\n",
              " 'Property_Area',\n",
              " 'Loan_Status',\n",
              " 'LoanAmount_log',\n",
              " 'TotalIncome',\n",
              " 'TotalIncome_log']"
            ]
          },
          "metadata": {},
          "execution_count": 8
        }
      ]
    },
    {
      "cell_type": "markdown",
      "source": [
        "**Exploratory Data Analysis**"
      ],
      "metadata": {
        "id": "qb1BJWbfyTTJ"
      }
    },
    {
      "cell_type": "code",
      "source": [
        "\n",
        "from pyspark.sql.functions import mean, when, col, isnan, count\n",
        "\n",
        "#calculates the mode by grouping the data by that column, counting occurrences, and ordering in descending order.\n",
        "#It then fills missing values in the column with the calculated mode using the withColumn and when functions.Categorical column deals with 0\n",
        "\n",
        "columns_to_fill_mode = ['Gender','Married','Dependents','Education','Self_Employed','Property_Area','Loan_Status']\n",
        "for column in columns_to_fill_mode:\n",
        "    mode_value = data.groupBy(column).count().orderBy(\"count\", ascending=False).first()[column]\n",
        "    data = data.withColumn(column, when(col(column).isNull(), mode_value).otherwise(col(column)))\n",
        "\n",
        "# Fill missing values for numerical columns with mean\n",
        "#Filling missing values with the mean is a straightforward method for numerical columns.\n",
        "columns_to_fill_mean = ['ApplicantIncome', 'CoapplicantIncome','LoanAmount','Loan_Amount_Term','Credit_History','LoanAmount_log','TotalIncome','TotalIncome_log']\n",
        "for column in columns_to_fill_mean:\n",
        "    mean_value = data.select(mean(column)).collect()[0][0]\n",
        "    data = data.withColumn(column, when(col(column).isNull(), mean_value).otherwise(col(column)))\n",
        "\n",
        "# Show the count of null values after imputation\n",
        "data.select([count(when(isnan(c) | col(c).isNull(), c)).alias(c) for c in data.columns]\n",
        "   ).show()\n"
      ],
      "metadata": {
        "colab": {
          "base_uri": "https://localhost:8080/"
        },
        "id": "SGhoWGRy7d2k",
        "outputId": "1e46f267-39b1-449b-c8c9-89e4d7336411"
      },
      "execution_count": null,
      "outputs": [
        {
          "output_type": "stream",
          "name": "stdout",
          "text": [
            "+-------+------+-------+----------+---------+-------------+---------------+-----------------+----------+----------------+--------------+-------------+-----------+--------------+-----------+---------------+\n",
            "|Loan_ID|Gender|Married|Dependents|Education|Self_Employed|ApplicantIncome|CoapplicantIncome|LoanAmount|Loan_Amount_Term|Credit_History|Property_Area|Loan_Status|LoanAmount_log|TotalIncome|TotalIncome_log|\n",
            "+-------+------+-------+----------+---------+-------------+---------------+-----------------+----------+----------------+--------------+-------------+-----------+--------------+-----------+---------------+\n",
            "|      0|     0|      0|         0|        0|            0|              0|                0|         0|               0|             0|            0|          0|             0|          0|              0|\n",
            "+-------+------+-------+----------+---------+-------------+---------------+-----------------+----------+----------------+--------------+-------------+-----------+--------------+-----------+---------------+\n",
            "\n"
          ]
        }
      ]
    },
    {
      "cell_type": "code",
      "source": [
        "data.show(10)"
      ],
      "metadata": {
        "colab": {
          "base_uri": "https://localhost:8080/"
        },
        "id": "HV2RueRwsngb",
        "outputId": "3d8d3965-95a1-40c0-eb87-8ecd84532933"
      },
      "execution_count": null,
      "outputs": [
        {
          "output_type": "stream",
          "name": "stdout",
          "text": [
            "+--------+------+-------+----------+------------+-------------+---------------+-----------------+------------------+----------------+--------------+-------------+-----------+-----------------+------------------+------------------+\n",
            "| Loan_ID|Gender|Married|Dependents|   Education|Self_Employed|ApplicantIncome|CoapplicantIncome|        LoanAmount|Loan_Amount_Term|Credit_History|Property_Area|Loan_Status|   LoanAmount_log|       TotalIncome|   TotalIncome_log|\n",
            "+--------+------+-------+----------+------------+-------------+---------------+-----------------+------------------+----------------+--------------+-------------+-----------+-----------------+------------------+------------------+\n",
            "|LP001002|  Male|     No|         0|    Graduate|           No|         5849.0|              0.0|146.41216216216216|           360.0|           1.0|        Urban|          Y|4.857444178729353| 8.674025985443025| 2.160333041194141|\n",
            "|LP001003|  Male|    Yes|         1|    Graduate|           No|         4583.0|           1508.0|             128.0|           360.0|           1.0|        Rural|          N|4.852030263919617| 8.714567550836485|2.1649960564942785|\n",
            "|LP001005|  Male|    Yes|         0|    Graduate|          Yes|         3000.0|              0.0|              66.0|           360.0|           1.0|        Urban|          Y|4.189654742026425| 8.006367567650246|2.0802371710391188|\n",
            "|LP001006|  Male|    Yes|         0|Not Graduate|           No|         2583.0|           2358.0|             120.0|           360.0|           1.0|        Urban|          Y|4.787491742782046|  8.50532301884575|2.1406922050026513|\n",
            "|LP001008|  Male|     No|         0|    Graduate|           No|         6000.0|              0.0|             141.0|           360.0|           1.0|        Urban|          Y|4.948759890378168| 8.699514748210191|2.1632672480372013|\n",
            "|LP001011|  Male|    Yes|         2|    Graduate|          Yes|         5417.0|           4196.0|             267.0|           360.0|           1.0|        Urban|          Y| 5.58724865840025| 9.170871628065816|2.2160323338848826|\n",
            "|LP001013|  Male|    Yes|         0|Not Graduate|           No|         2333.0|           1516.0|              95.0|           360.0|           1.0|        Urban|          Y|4.553876891600541| 8.255568653283746| 2.110887960921279|\n",
            "|LP001014|  Male|    Yes|        3+|    Graduate|           No|         3036.0|           2504.0|             158.0|           360.0|           0.0|    Semiurban|          N|5.062595033026967|  8.61974977974133|2.1540560563820494|\n",
            "|LP001018|  Male|    Yes|         2|    Graduate|           No|         4006.0|           1526.0|             168.0|           360.0|           1.0|        Urban|          Y|5.123963979403259|  8.61830469278465|2.1538883939625615|\n",
            "|LP001020|  Male|    Yes|         1|    Graduate|           No|        12841.0|          10968.0|             349.0|           360.0|           1.0|    Semiurban|          N|5.855071922202427|10.077818939438902|2.3103368641750985|\n",
            "+--------+------+-------+----------+------------+-------------+---------------+-----------------+------------------+----------------+--------------+-------------+-----------+-----------------+------------------+------------------+\n",
            "only showing top 10 rows\n",
            "\n"
          ]
        }
      ]
    },
    {
      "cell_type": "code",
      "source": [
        "#Summarizing key information of the selected columns (describe() method can also be used)\n",
        "data.select('Gender','Dependents','Education','Self_Employed','ApplicantIncome','LoanAmount',\n",
        "            'Credit_History','Property_Area','TotalIncome','Loan_Status').summary().show()"
      ],
      "metadata": {
        "colab": {
          "base_uri": "https://localhost:8080/"
        },
        "id": "HlZFMJ0Uveee",
        "outputId": "9d0c77fc-b29b-4bb5-d997-d130c6c2a0d2"
      },
      "execution_count": null,
      "outputs": [
        {
          "output_type": "stream",
          "name": "stdout",
          "text": [
            "+-------+------+------------------+------------+-------------+-----------------+------------------+------------------+-------------+------------------+-----------+\n",
            "|summary|Gender|        Dependents|   Education|Self_Employed|  ApplicantIncome|        LoanAmount|    Credit_History|Property_Area|       TotalIncome|Loan_Status|\n",
            "+-------+------+------------------+------------+-------------+-----------------+------------------+------------------+-------------+------------------+-----------+\n",
            "|  count|   614|               614|         614|          614|              614|               614|               614|          614|               614|        614|\n",
            "|   mean|  null|0.5399644760213144|        null|         null|5403.459283387622|146.41216216216213|0.8421985815602844|         null| 8.669413562902252|       null|\n",
            "| stddev|  null| 0.779920152051259|        null|         null|6109.041673387181|  84.0374676831965|0.3496809866561487|         null|0.5451015367192202|       null|\n",
            "|    min|Female|                 0|    Graduate|           No|            150.0|               9.0|               0.0|        Rural| 7.273786317844895|          N|\n",
            "|    25%|  null|               0.0|        null|         null|           2876.0|             100.0|               1.0|         null| 8.334711621820917|       null|\n",
            "|    50%|  null|               0.0|        null|         null|           3812.0|             129.0|               1.0|         null|  8.59711281459211|       null|\n",
            "|    75%|  null|               1.0|        null|         null|           5800.0|             165.0|               1.0|         null| 8.927314111060596|       null|\n",
            "|    max|  Male|                3+|Not Graduate|          Yes|          81000.0|             700.0|               1.0|        Urban|11.302204433654575|          Y|\n",
            "+-------+------+------------------+------------+-------------+-----------------+------------------+------------------+-------------+------------------+-----------+\n",
            "\n"
          ]
        }
      ]
    },
    {
      "cell_type": "code",
      "source": [
        "data.groupBy('Loan_Status').count().show()"
      ],
      "metadata": {
        "colab": {
          "base_uri": "https://localhost:8080/"
        },
        "id": "cnediWRZxPFM",
        "outputId": "33fd4b97-4f73-48a9-db04-0c8312124761"
      },
      "execution_count": null,
      "outputs": [
        {
          "output_type": "stream",
          "name": "stdout",
          "text": [
            "+-----------+-----+\n",
            "|Loan_Status|count|\n",
            "+-----------+-----+\n",
            "|          Y|  422|\n",
            "|          N|  192|\n",
            "+-----------+-----+\n",
            "\n"
          ]
        }
      ]
    },
    {
      "cell_type": "code",
      "source": [
        "\n",
        "#Grouping a column and finding information about each group (continuous variables)\n",
        "data.groupBy('Loan_Status').mean('Credit_History','TotalIncome').show()"
      ],
      "metadata": {
        "colab": {
          "base_uri": "https://localhost:8080/"
        },
        "id": "guAZxPjoydb4",
        "outputId": "5c51eaee-6e0f-403f-b2af-e1223f34c0fc"
      },
      "execution_count": null,
      "outputs": [
        {
          "output_type": "stream",
          "name": "stdout",
          "text": [
            "+-----------+-------------------+-----------------+\n",
            "|Loan_Status|avg(Credit_History)| avg(TotalIncome)|\n",
            "+-----------+-------------------+-----------------+\n",
            "|          Y| 0.9695766528856181|8.672073444078029|\n",
            "|          N| 0.5622321956264774| 8.66356736573465|\n",
            "+-----------+-------------------+-----------------+\n",
            "\n"
          ]
        }
      ]
    },
    {
      "cell_type": "code",
      "source": [
        "#Grouping a column and finding information about each group (continuous variables)\n",
        "data.groupBy('Loan_Status').mean('LoanAmount').show()"
      ],
      "metadata": {
        "colab": {
          "base_uri": "https://localhost:8080/"
        },
        "id": "lgyVmXMZXQrh",
        "outputId": "0cae3206-7b7d-47b2-e8ec-ae82429064f1"
      },
      "execution_count": null,
      "outputs": [
        {
          "output_type": "stream",
          "name": "stdout",
          "text": [
            "+-----------+------------------+\n",
            "|Loan_Status|   avg(LoanAmount)|\n",
            "+-----------+------------------+\n",
            "|          Y|144.34960612271036|\n",
            "|          N|150.94548845720723|\n",
            "+-----------+------------------+\n",
            "\n"
          ]
        }
      ]
    },
    {
      "cell_type": "code",
      "source": [
        "#Grouping a column based on categories of data present there (categorial variable)\n",
        "data.groupBy('Loan_Status').pivot('Education').count().show()"
      ],
      "metadata": {
        "colab": {
          "base_uri": "https://localhost:8080/"
        },
        "id": "qS8SKDuh02nX",
        "outputId": "17c21dfc-3f8f-4515-9382-1829f1d89658"
      },
      "execution_count": null,
      "outputs": [
        {
          "output_type": "stream",
          "name": "stdout",
          "text": [
            "+-----------+--------+------------+\n",
            "|Loan_Status|Graduate|Not Graduate|\n",
            "+-----------+--------+------------+\n",
            "|          Y|     340|          82|\n",
            "|          N|     140|          52|\n",
            "+-----------+--------+------------+\n",
            "\n"
          ]
        }
      ]
    },
    {
      "cell_type": "code",
      "source": [
        "\n",
        "data.groupBy('Loan_Status').pivot('Self_Employed').count().show()"
      ],
      "metadata": {
        "colab": {
          "base_uri": "https://localhost:8080/"
        },
        "id": "t6CMomif2Oac",
        "outputId": "b79cc5dc-b879-48cd-f736-a91837608611"
      },
      "execution_count": null,
      "outputs": [
        {
          "output_type": "stream",
          "name": "stdout",
          "text": [
            "+-----------+---+---+\n",
            "|Loan_Status| No|Yes|\n",
            "+-----------+---+---+\n",
            "|          Y|366| 56|\n",
            "|          N|166| 26|\n",
            "+-----------+---+---+\n",
            "\n"
          ]
        }
      ]
    },
    {
      "cell_type": "code",
      "source": [
        "data.groupBy('Loan_Status').pivot('Property_Area').count().show()"
      ],
      "metadata": {
        "colab": {
          "base_uri": "https://localhost:8080/"
        },
        "id": "sz6oh0BN2azj",
        "outputId": "382cf2d4-8459-4b45-bd4b-2cfe3d8372a8"
      },
      "execution_count": null,
      "outputs": [
        {
          "output_type": "stream",
          "name": "stdout",
          "text": [
            "+-----------+-----+---------+-----+\n",
            "|Loan_Status|Rural|Semiurban|Urban|\n",
            "+-----------+-----+---------+-----+\n",
            "|          Y|  110|      179|  133|\n",
            "|          N|   69|       54|   69|\n",
            "+-----------+-----+---------+-----+\n",
            "\n"
          ]
        }
      ]
    },
    {
      "cell_type": "code",
      "source": [
        "colNames = data.columns\n",
        "colNames"
      ],
      "metadata": {
        "colab": {
          "base_uri": "https://localhost:8080/"
        },
        "id": "ToA18DQD34Gp",
        "outputId": "da33f57f-951c-45ec-c086-8f0c80645c5a"
      },
      "execution_count": null,
      "outputs": [
        {
          "output_type": "execute_result",
          "data": {
            "text/plain": [
              "['Loan_ID',\n",
              " 'Gender',\n",
              " 'Married',\n",
              " 'Dependents',\n",
              " 'Education',\n",
              " 'Self_Employed',\n",
              " 'ApplicantIncome',\n",
              " 'CoapplicantIncome',\n",
              " 'LoanAmount',\n",
              " 'Loan_Amount_Term',\n",
              " 'Credit_History',\n",
              " 'Property_Area',\n",
              " 'Loan_Status',\n",
              " 'LoanAmount_log',\n",
              " 'TotalIncome',\n",
              " 'TotalIncome_log']"
            ]
          },
          "metadata": {},
          "execution_count": 18
        }
      ]
    },
    {
      "cell_type": "code",
      "source": [
        "from pyspark.sql.functions import col\n",
        "selected_columns_indices = list(range(1,2))+list(range(3,6))+list(range(8,9))+list(range(10, 12))+list(range(14,15))\n",
        "\n",
        "# Select columns using select method\n",
        "selected_columns = [col(data.columns[i]) for i in selected_columns_indices]\n",
        "selected_columns.append(col(data.columns[12]))  # Adding the target column\n",
        "\n",
        "# Create a new DataFrame with selected columns\n",
        "selected_df = data.select(*selected_columns)\n",
        "\n",
        "# Show the resulting DataFrame\n",
        "selected_df.show(10)\n"
      ],
      "metadata": {
        "colab": {
          "base_uri": "https://localhost:8080/"
        },
        "id": "n1w7hBS_09Bs",
        "outputId": "4a489d65-a8ad-439e-cd83-eb4db11e6ca1"
      },
      "execution_count": null,
      "outputs": [
        {
          "output_type": "stream",
          "name": "stdout",
          "text": [
            "+------+----------+------------+-------------+------------------+--------------+-------------+------------------+-----------+\n",
            "|Gender|Dependents|   Education|Self_Employed|        LoanAmount|Credit_History|Property_Area|       TotalIncome|Loan_Status|\n",
            "+------+----------+------------+-------------+------------------+--------------+-------------+------------------+-----------+\n",
            "|  Male|         0|    Graduate|           No|146.41216216216216|           1.0|        Urban| 8.674025985443025|          Y|\n",
            "|  Male|         1|    Graduate|           No|             128.0|           1.0|        Rural| 8.714567550836485|          N|\n",
            "|  Male|         0|    Graduate|          Yes|              66.0|           1.0|        Urban| 8.006367567650246|          Y|\n",
            "|  Male|         0|Not Graduate|           No|             120.0|           1.0|        Urban|  8.50532301884575|          Y|\n",
            "|  Male|         0|    Graduate|           No|             141.0|           1.0|        Urban| 8.699514748210191|          Y|\n",
            "|  Male|         2|    Graduate|          Yes|             267.0|           1.0|        Urban| 9.170871628065816|          Y|\n",
            "|  Male|         0|Not Graduate|           No|              95.0|           1.0|        Urban| 8.255568653283746|          Y|\n",
            "|  Male|        3+|    Graduate|           No|             158.0|           0.0|    Semiurban|  8.61974977974133|          N|\n",
            "|  Male|         2|    Graduate|           No|             168.0|           1.0|        Urban|  8.61830469278465|          Y|\n",
            "|  Male|         1|    Graduate|           No|             349.0|           1.0|    Semiurban|10.077818939438902|          N|\n",
            "+------+----------+------------+-------------+------------------+--------------+-------------+------------------+-----------+\n",
            "only showing top 10 rows\n",
            "\n"
          ]
        }
      ]
    },
    {
      "cell_type": "code",
      "source": [
        "from pyspark.sql.functions import col\n",
        "column_name = 'TotalIncome'\n",
        "\n",
        "# Calculate the percentage of missing values\n",
        "missing_percentage = (data.filter(col(column_name).isNull()).count() / data.count()) * 100\n",
        "print(\"Percentage of missing {} is {:.2f}%\".format(column_name, missing_percentage))\n"
      ],
      "metadata": {
        "colab": {
          "base_uri": "https://localhost:8080/"
        },
        "id": "FI92epFOff9g",
        "outputId": "6d84b006-bb27-4609-9dcf-74b026cf0c17"
      },
      "execution_count": null,
      "outputs": [
        {
          "output_type": "stream",
          "name": "stdout",
          "text": [
            "Percentage of missing TotalIncome is 0.00%\n"
          ]
        }
      ]
    },
    {
      "cell_type": "code",
      "source": [
        "import matplotlib.pyplot as plt\n",
        "import seaborn as sns\n",
        "gender_counts = data.groupBy('Gender').count()\n",
        "gender_counts.show()\n",
        "\n",
        "# Convert PySpark DataFrame to Pandas DataFrame for plotting\n",
        "gender_counts_pandas = gender_counts.toPandas()\n",
        "\n",
        "# Plot the result using seaborn\n",
        "sns.set(style=\"whitegrid\")\n",
        "sns.barplot(x='Gender', y='count', data=gender_counts_pandas, palette='Set1')\n",
        "plt.title('Number of people who take a loan by gender')\n",
        "plt.show()\n"
      ],
      "metadata": {
        "colab": {
          "base_uri": "https://localhost:8080/",
          "height": 602
        },
        "id": "O2oBvv9Lqqxd",
        "outputId": "02eae9a2-86f3-405e-cb1d-978af6885a1e"
      },
      "execution_count": null,
      "outputs": [
        {
          "output_type": "stream",
          "name": "stdout",
          "text": [
            "+------+-----+\n",
            "|Gender|count|\n",
            "+------+-----+\n",
            "|Female|  112|\n",
            "|  Male|  502|\n",
            "+------+-----+\n",
            "\n"
          ]
        },
        {
          "output_type": "display_data",
          "data": {
            "text/plain": [
              "<Figure size 640x480 with 1 Axes>"
            ],
            "image/png": "[encoded data removed]"
          },
          "metadata": {}
        }
      ]
    },
    {
      "cell_type": "code",
      "source": [
        "depentCount = data.groupBy('Dependents').count()\n",
        "depentCount.show()\n",
        "\n",
        "# Convert PySpark DataFrame to Pandas DataFrame for plotting\n",
        "depentCount_pandas = depentCount.toPandas()\n",
        "\n",
        "# Plot the result using seaborn\n",
        "sns.set(style=\"whitegrid\")\n",
        "sns.barplot(x='Dependents', y='count', data=depentCount_pandas, palette='Set3')\n",
        "plt.title('Number of people who take a loan by Dependents')\n",
        "plt.show()"
      ],
      "metadata": {
        "colab": {
          "base_uri": "https://localhost:8080/",
          "height": 636
        },
        "id": "vVUsXV8ssVKr",
        "outputId": "ca88a022-10dc-426b-8ec8-73fd37ef7f1d"
      },
      "execution_count": null,
      "outputs": [
        {
          "output_type": "stream",
          "name": "stdout",
          "text": [
            "+----------+-----+\n",
            "|Dependents|count|\n",
            "+----------+-----+\n",
            "|         0|  360|\n",
            "|         1|  102|\n",
            "|        3+|   51|\n",
            "|         2|  101|\n",
            "+----------+-----+\n",
            "\n"
          ]
        },
        {
          "output_type": "display_data",
          "data": {
            "text/plain": [
              "<Figure size 640x480 with 1 Axes>"
            ],
            "image/png": "[encoded data removed]"
          },
          "metadata": {}
        }
      ]
    },
    {
      "cell_type": "code",
      "source": [
        "loanCount = data.groupBy('LoanAmount').count()\n",
        "loanCount.show()\n",
        "loanCount_pandas = loanCount.toPandas()\n",
        "# Plot the result using seaborn\n",
        "sns.set(style=\"whitegrid\")\n",
        "sns.barplot(x='LoanAmount', y='count', data=loanCount_pandas, palette='Set2')\n",
        "plt.show()"
      ],
      "metadata": {
        "colab": {
          "base_uri": "https://localhost:8080/",
          "height": 909
        },
        "id": "B-9zfVQnuIO7",
        "outputId": "63d5b87c-0506-4b8f-bbd4-f1ea7f5c6f34"
      },
      "execution_count": null,
      "outputs": [
        {
          "output_type": "stream",
          "name": "stdout",
          "text": [
            "+----------+-----+\n",
            "|LoanAmount|count|\n",
            "+----------+-----+\n",
            "|     496.0|    1|\n",
            "|     184.0|    2|\n",
            "|     170.0|    3|\n",
            "|     160.0|   12|\n",
            "|      70.0|    8|\n",
            "|      67.0|    3|\n",
            "|     311.0|    1|\n",
            "|     168.0|    3|\n",
            "|     650.0|    1|\n",
            "|     142.0|    1|\n",
            "|     191.0|    1|\n",
            "|     112.0|    8|\n",
            "|     154.0|    2|\n",
            "|     124.0|    5|\n",
            "|     253.0|    1|\n",
            "|     128.0|   11|\n",
            "|     201.0|    2|\n",
            "|     180.0|    6|\n",
            "|     108.0|    5|\n",
            "|     255.0|    3|\n",
            "+----------+-----+\n",
            "only showing top 20 rows\n",
            "\n"
          ]
        },
        {
          "output_type": "display_data",
          "data": {
            "text/plain": [
              "<Figure size 640x480 with 1 Axes>"
            ],
            "image/png": "[encoded data removed]"
          },
          "metadata": {}
        }
      ]
    },
    {
      "cell_type": "code",
      "source": [
        "# importing required libraries\n",
        "from pyspark.ml.feature import StringIndexer, VectorAssembler\n",
        "from pyspark.ml.classification import LogisticRegression,\\\n",
        "                    RandomForestClassifier, GBTClassifier\n",
        "from pyspark.ml.evaluation import MulticlassClassificationEvaluator\n",
        "from pyspark.ml import Pipeline\n",
        "from pyspark.ml.tuning import CrossValidator, ParamGridBuilder\n",
        "from pyspark.ml.feature import StringIndexer"
      ],
      "metadata": {
        "id": "ltXbXk6BOCYR"
      },
      "execution_count": null,
      "outputs": []
    },
    {
      "cell_type": "code",
      "source": [
        "data.show(5)"
      ],
      "metadata": {
        "colab": {
          "base_uri": "https://localhost:8080/"
        },
        "id": "MQnpG1WiuVxc",
        "outputId": "359ca445-2dd0-45af-b342-9e381d64b515"
      },
      "execution_count": null,
      "outputs": [
        {
          "output_type": "stream",
          "name": "stdout",
          "text": [
            "+--------+------+-------+----------+------------+-------------+---------------+-----------------+------------------+----------------+--------------+-------------+-----------+-----------------+-----------------+------------------+\n",
            "| Loan_ID|Gender|Married|Dependents|   Education|Self_Employed|ApplicantIncome|CoapplicantIncome|        LoanAmount|Loan_Amount_Term|Credit_History|Property_Area|Loan_Status|   LoanAmount_log|      TotalIncome|   TotalIncome_log|\n",
            "+--------+------+-------+----------+------------+-------------+---------------+-----------------+------------------+----------------+--------------+-------------+-----------+-----------------+-----------------+------------------+\n",
            "|LP001002|  Male|     No|         0|    Graduate|           No|         5849.0|              0.0|146.41216216216216|           360.0|           1.0|        Urban|          Y|4.857444178729353|8.674025985443025| 2.160333041194141|\n",
            "|LP001003|  Male|    Yes|         1|    Graduate|           No|         4583.0|           1508.0|             128.0|           360.0|           1.0|        Rural|          N|4.852030263919617|8.714567550836485|2.1649960564942785|\n",
            "|LP001005|  Male|    Yes|         0|    Graduate|          Yes|         3000.0|              0.0|              66.0|           360.0|           1.0|        Urban|          Y|4.189654742026425|8.006367567650246|2.0802371710391188|\n",
            "|LP001006|  Male|    Yes|         0|Not Graduate|           No|         2583.0|           2358.0|             120.0|           360.0|           1.0|        Urban|          Y|4.787491742782046| 8.50532301884575|2.1406922050026513|\n",
            "|LP001008|  Male|     No|         0|    Graduate|           No|         6000.0|              0.0|             141.0|           360.0|           1.0|        Urban|          Y|4.948759890378168|8.699514748210191|2.1632672480372013|\n",
            "+--------+------+-------+----------+------------+-------------+---------------+-----------------+------------------+----------------+--------------+-------------+-----------+-----------------+-----------------+------------------+\n",
            "only showing top 5 rows\n",
            "\n"
          ]
        }
      ]
    },
    {
      "cell_type": "code",
      "source": [
        "# ei comment kora doi cell e loan status re encoded kora hoy nai\n",
        "\n",
        "#Converting categorical values to integer values (encoding)\n",
        "#stringIndex = StringIndexer(inputCols=['Gender','Married','Education','Self_Employed','Dependents'],\n",
        " #                      outputCols=['Gender_','Married_','Education_','Self_Employed_','Dependents_'])\n",
        "\n",
        "#stringIndex_model = stringIndex.fit(data)\n",
        "\n",
        "#df1_ = stringIndex_model.transform(data).drop('Gender','Married','Education','Self_Employed','Dependents')\n",
        "#df1_.show(4)"
      ],
      "metadata": {
        "id": "xXmDrwFQwx3R"
      },
      "execution_count": null,
      "outputs": []
    },
    {
      "cell_type": "code",
      "source": [
        "\n",
        "#vec_asmbl = VectorAssembler(inputCols=df1_.columns[11:16],\n",
        "#                          outputCol='features')\n",
        "\n",
        "#df1_ = vec_asmbl.transform(df1_).select('features', 'Loan_Status')\n",
        "#df1_.show(4, truncate=False)\n"
      ],
      "metadata": {
        "id": "LBX96JR46xQw"
      },
      "execution_count": null,
      "outputs": []
    },
    {
      "cell_type": "code",
      "source": [
        "#Converting categorical values to integer values (encoding)\n",
        "stringIndex = StringIndexer(inputCols=['Gender','Dependents','Education','Self_Employed','Property_Area','Loan_Status'],\n",
        "                       outputCols=['Gender_','Dependents_','Education_','Self_Employed_','Property_Area_','Loan_Status_'])\n",
        "\n",
        "stringIndex_model = stringIndex.fit(data)\n",
        "\n",
        "df1_ = stringIndex_model.transform(data).drop('Gender','Dependents','Education','Self_Employed','Property_Area','Loan_Status')\n",
        "df1_.show(4)"
      ],
      "metadata": {
        "colab": {
          "base_uri": "https://localhost:8080/"
        },
        "id": "3QX845hozvQf",
        "outputId": "d75f4db5-1339-472e-8319-126bbe6d28a0"
      },
      "execution_count": null,
      "outputs": [
        {
          "output_type": "stream",
          "name": "stdout",
          "text": [
            "+--------+-------+---------------+-----------------+------------------+----------------+--------------+-----------------+-----------------+------------------+------------+-------+-----------+--------------+----------+--------------+\n",
            "| Loan_ID|Married|ApplicantIncome|CoapplicantIncome|        LoanAmount|Loan_Amount_Term|Credit_History|   LoanAmount_log|      TotalIncome|   TotalIncome_log|Loan_Status_|Gender_|Dependents_|Property_Area_|Education_|Self_Employed_|\n",
            "+--------+-------+---------------+-----------------+------------------+----------------+--------------+-----------------+-----------------+------------------+------------+-------+-----------+--------------+----------+--------------+\n",
            "|LP001002|     No|         5849.0|              0.0|146.41216216216216|           360.0|           1.0|4.857444178729353|8.674025985443025| 2.160333041194141|         0.0|    0.0|        0.0|           1.0|       0.0|           0.0|\n",
            "|LP001003|    Yes|         4583.0|           1508.0|             128.0|           360.0|           1.0|4.852030263919617|8.714567550836485|2.1649960564942785|         1.0|    0.0|        1.0|           2.0|       0.0|           0.0|\n",
            "|LP001005|    Yes|         3000.0|              0.0|              66.0|           360.0|           1.0|4.189654742026425|8.006367567650246|2.0802371710391188|         0.0|    0.0|        0.0|           1.0|       0.0|           1.0|\n",
            "|LP001006|    Yes|         2583.0|           2358.0|             120.0|           360.0|           1.0|4.787491742782046| 8.50532301884575|2.1406922050026513|         0.0|    0.0|        0.0|           1.0|       1.0|           0.0|\n",
            "+--------+-------+---------------+-----------------+------------------+----------------+--------------+-----------------+-----------------+------------------+------------+-------+-----------+--------------+----------+--------------+\n",
            "only showing top 4 rows\n",
            "\n"
          ]
        }
      ]
    },
    {
      "cell_type": "code",
      "source": [
        "colNames = df1_.columns\n",
        "colNames"
      ],
      "metadata": {
        "colab": {
          "base_uri": "https://localhost:8080/"
        },
        "id": "_6tzmritAHC1",
        "outputId": "121b044d-eb14-4e22-82c9-a27d861253bc"
      },
      "execution_count": null,
      "outputs": [
        {
          "output_type": "execute_result",
          "data": {
            "text/plain": [
              "['Loan_ID',\n",
              " 'Married',\n",
              " 'ApplicantIncome',\n",
              " 'CoapplicantIncome',\n",
              " 'LoanAmount',\n",
              " 'Loan_Amount_Term',\n",
              " 'Credit_History',\n",
              " 'LoanAmount_log',\n",
              " 'TotalIncome',\n",
              " 'TotalIncome_log',\n",
              " 'Loan_Status_',\n",
              " 'Gender_',\n",
              " 'Dependents_',\n",
              " 'Property_Area_',\n",
              " 'Education_',\n",
              " 'Self_Employed_']"
            ]
          },
          "metadata": {},
          "execution_count": 27
        }
      ]
    },
    {
      "cell_type": "code",
      "source": [
        "vec_asmbl = VectorAssembler(inputCols= df1_.columns[11:16]+df1_.columns[4:5]+df1_.columns[6:7]+df1_.columns[8:9],\n",
        "                           outputCol='features')\n",
        "\n",
        "df1_ = vec_asmbl.transform(df1_).select('features', 'Loan_Status_')\n",
        "df1_.show(7, truncate=False)"
      ],
      "metadata": {
        "colab": {
          "base_uri": "https://localhost:8080/"
        },
        "id": "dbX8j70uAM97",
        "outputId": "8338f25b-cb1c-4364-de30-91428a0a39eb"
      },
      "execution_count": null,
      "outputs": [
        {
          "output_type": "stream",
          "name": "stdout",
          "text": [
            "+------------------------------------------------------------+------------+\n",
            "|features                                                    |Loan_Status_|\n",
            "+------------------------------------------------------------+------------+\n",
            "|(8,[2,5,6,7],[1.0,146.41216216216216,1.0,8.674025985443025])|0.0         |\n",
            "|[0.0,1.0,2.0,0.0,0.0,128.0,1.0,8.714567550836485]           |1.0         |\n",
            "|[0.0,0.0,1.0,0.0,1.0,66.0,1.0,8.006367567650246]            |0.0         |\n",
            "|[0.0,0.0,1.0,1.0,0.0,120.0,1.0,8.50532301884575]            |0.0         |\n",
            "|(8,[2,5,6,7],[1.0,141.0,1.0,8.699514748210191])             |0.0         |\n",
            "|[0.0,2.0,1.0,0.0,1.0,267.0,1.0,9.170871628065816]           |0.0         |\n",
            "|[0.0,0.0,1.0,1.0,0.0,95.0,1.0,8.255568653283746]            |0.0         |\n",
            "+------------------------------------------------------------+------------+\n",
            "only showing top 7 rows\n",
            "\n"
          ]
        }
      ]
    },
    {
      "cell_type": "code",
      "source": [
        "# Creating train and validation set\n",
        "train_df, valid_df = df1_.randomSplit([0.8, 0.2])"
      ],
      "metadata": {
        "id": "uY3AHYCoBALy"
      },
      "execution_count": null,
      "outputs": []
    },
    {
      "cell_type": "code",
      "source": [
        "evaluator = MulticlassClassificationEvaluator(labelCol='Loan_Status_',\n",
        "                                          metricName='accuracy')"
      ],
      "metadata": {
        "id": "424iGtxsE7uv"
      },
      "execution_count": null,
      "outputs": []
    },
    {
      "cell_type": "code",
      "source": [
        "#Ridge Regression model\n",
        "ridge = LogisticRegression(labelCol='Loan_Status_',\n",
        "                        maxIter=100,\n",
        "                        elasticNetParam=0,\n",
        "                        regParam=0.03)\n",
        "\n",
        "model = ridge.fit(train_df)\n",
        "pred = model.transform(valid_df)\n",
        "evaluator.evaluate(pred)"
      ],
      "metadata": {
        "colab": {
          "base_uri": "https://localhost:8080/"
        },
        "id": "IAhgwazkFOuF",
        "outputId": "16c85ac3-847d-4c0b-b314-da171702fad3"
      },
      "execution_count": null,
      "outputs": [
        {
          "output_type": "execute_result",
          "data": {
            "text/plain": [
              "0.8484848484848485"
            ]
          },
          "metadata": {},
          "execution_count": 31
        }
      ]
    },
    {
      "cell_type": "code",
      "source": [
        "#Lasso Regression model\n",
        "lasso = LogisticRegression(labelCol='Loan_Status_',\n",
        "                           maxIter=100,\n",
        "                           elasticNetParam=1,\n",
        "                           regParam=0.0003)\n",
        "\n",
        "model = lasso.fit(train_df)\n",
        "pred = model.transform(valid_df)\n",
        "evaluator.evaluate(pred)"
      ],
      "metadata": {
        "colab": {
          "base_uri": "https://localhost:8080/"
        },
        "id": "VWiC7O4RFasM",
        "outputId": "1bb2d6ab-6502-4087-9a53-55efd96ab8f9"
      },
      "execution_count": null,
      "outputs": [
        {
          "output_type": "execute_result",
          "data": {
            "text/plain": [
              "0.8484848484848485"
            ]
          },
          "metadata": {},
          "execution_count": 32
        }
      ]
    },
    {
      "cell_type": "code",
      "source": [
        "#Random Forest Classifier Model\n",
        "rf = RandomForestClassifier(labelCol='Loan_Status_',\n",
        "                           numTrees=100, maxDepth=3)\n",
        "\n",
        "model = rf.fit(train_df)\n",
        "pred = model.transform(valid_df)\n",
        "evaluator.evaluate(pred)"
      ],
      "metadata": {
        "colab": {
          "base_uri": "https://localhost:8080/"
        },
        "id": "HszjjQtpJKCh",
        "outputId": "f46c4eec-29e0-473d-da9c-40a73d9ad312"
      },
      "execution_count": null,
      "outputs": [
        {
          "output_type": "execute_result",
          "data": {
            "text/plain": [
              "0.8484848484848485"
            ]
          },
          "metadata": {},
          "execution_count": 33
        }
      ]
    },
    {
      "cell_type": "code",
      "source": [
        "#Gradient Boosting Classifier\n",
        "gb = GBTClassifier(labelCol='Loan_Status_', maxIter=100, maxDepth=3)\n",
        "\n",
        "model = gb.fit(train_df)\n",
        "pred = model.transform(valid_df)\n",
        "evaluator.evaluate(pred)"
      ],
      "metadata": {
        "colab": {
          "base_uri": "https://localhost:8080/"
        },
        "id": "4WL4q94uKKGY",
        "outputId": "0d3ac527-55e7-4969-ac18-25f4d09aae7d"
      },
      "execution_count": null,
      "outputs": [
        {
          "output_type": "execute_result",
          "data": {
            "text/plain": [
              "0.8409090909090909"
            ]
          },
          "metadata": {},
          "execution_count": 34
        }
      ]
    },
    {
      "cell_type": "code",
      "source": [
        "#Creating pipelne\n",
        "pipeline_rf = Pipeline(stages=[stringIndex, vec_asmbl, rf])\n",
        "\n",
        "#Creating Grid\n",
        "paramGrid = ParamGridBuilder().\\\n",
        "            addGrid(rf.maxDepth, [3, 4, 5]).\\\n",
        "            addGrid(rf.minInfoGain, [0.001, 0.01, 0.1]).\\\n",
        "            addGrid(rf.numTrees, [100,500,1000]).\\\n",
        "            build()\n",
        "\n",
        "#Initializing crossvalidator\n",
        "selected_model = CrossValidator(estimator=pipeline_rf,\n",
        "                                estimatorParamMaps=paramGrid,\n",
        "                                evaluator=evaluator,\n",
        "                                numFolds=5)\n",
        "\n",
        "model_final = selected_model.fit(data)\n",
        "pred_train = model_final.transform(data)\n",
        "evaluator.evaluate(pred_train)"
      ],
      "metadata": {
        "colab": {
          "base_uri": "https://localhost:8080/"
        },
        "id": "7pYMKRN0OoaU",
        "outputId": "3eca4a71-5cb3-489f-9eee-c9be4d29497b"
      },
      "execution_count": null,
      "outputs": [
        {
          "output_type": "execute_result",
          "data": {
            "text/plain": [
              "0.8094462540716613"
            ]
          },
          "metadata": {},
          "execution_count": 35
        }
      ]
    }
  ]
}